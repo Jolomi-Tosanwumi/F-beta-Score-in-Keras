{
  "nbformat": 4,
  "nbformat_minor": 0,
  "metadata": {
    "colab": {
      "name": "MultiClassFbeta.ipynb",
      "provenance": [],
      "authorship_tag": "ABX9TyOo8DBu26c/EmnJBlxjsrFD"
    },
    "kernelspec": {
      "name": "python3",
      "display_name": "Python 3"
    },
    "accelerator": "GPU"
  },
  "cells": [
    {
      "cell_type": "code",
      "metadata": {
        "id": "_OfUffxVbS5W"
      },
      "source": [
        "# importing useful libraries\n",
        "import numpy as np\n",
        "import tensorflow as tf\n",
        "import random as python_random\n",
        "\n",
        "# setting random seed for result reproducibility\n",
        "np.random.seed(1)\n",
        "python_random.seed(12)\n",
        "tf.random.set_seed(123)\n",
        "\n",
        "from tensorflow.keras.models import Sequential\n",
        "from tensorflow.keras.layers import Dense, Flatten, BatchNormalization, Conv2D\n",
        "from tensorflow.keras.optimizers import Adam\n",
        "from tensorflow.keras.metrics import Metric\n",
        "from tensorflow.keras.utils import to_categorical\n",
        "\n",
        "from sklearn.metrics import fbeta_score\n",
        "\n",
        "import matplotlib.pyplot as plt\n",
        "\n",
        "import warnings\n",
        "warnings.filterwarnings('ignore')\n",
        "\n",
        "%matplotlib inline"
      ],
      "execution_count": 1,
      "outputs": []
    },
    {
      "cell_type": "code",
      "metadata": {
        "id": "ncmIHMSYGNgV"
      },
      "source": [
        ""
      ],
      "execution_count": 1,
      "outputs": []
    },
    {
      "cell_type": "code",
      "metadata": {
        "colab": {
          "base_uri": "https://localhost:8080/"
        },
        "id": "fK1HKiMojQqs",
        "outputId": "266d2c27-14bd-469b-e9ee-a2b3e8425f0c"
      },
      "source": [
        "mnist = tf.keras.datasets.mnist # downloading the dataset\n",
        "\n",
        "# unpacking the training and testing set\n",
        "(train_images, train_labels), (test_images, test_labels) = mnist.load_data()\n",
        "\n",
        "print('Training features have shape: {}, while labels have shape{}'.format(train_images.shape, train_labels.shape))\n",
        "print('Testing features have shape: {}, while labels have shape{}'.format(test_images.shape, test_labels.shape))\n",
        "\n",
        "class_labels = np.unique(train_labels)\n",
        "print(\"There are {} classes in the dataset. They are {}\".format(len(class_labels), class_labels))"
      ],
      "execution_count": 2,
      "outputs": [
        {
          "output_type": "stream",
          "text": [
            "Training features have shape: (60000, 28, 28), while labels have shape(60000,)\n",
            "Testing features have shape: (10000, 28, 28), while labels have shape(10000,)\n",
            "There are 10 classes in the dataset. They are [0 1 2 3 4 5 6 7 8 9]\n"
          ],
          "name": "stdout"
        }
      ]
    },
    {
      "cell_type": "code",
      "metadata": {
        "colab": {
          "base_uri": "https://localhost:8080/",
          "height": 377
        },
        "id": "pxaekqVSjlcQ",
        "outputId": "789b09aa-2bb4-4f53-b15d-2ef0c0f79883"
      },
      "source": [
        "fig = plt.figure(figsize=(6, 6))\n",
        "random_labels = np.random.choice(class_labels, size=4, replace=False)\n",
        "for ind in range(len(random_labels)):\n",
        "  random_ind = np.random.choice([i for i in range(len(train_labels)) if train_labels[i] == random_labels[ind]])\n",
        "  ax = fig.add_subplot(2, 2, ind+1)\n",
        "  plt.imshow(train_images[random_ind])\n",
        "  plt.title(\"Label: {}\".format(train_labels[random_ind]))\n",
        "  ax.xaxis.set_visible(False)\n",
        "  ax.yaxis.set_visible(False)\n",
        "plt.show()"
      ],
      "execution_count": 3,
      "outputs": [
        {
          "output_type": "display_data",
          "data": {
            "image/png": "[encoded data removed]",
            "text/plain": [
              "<Figure size 432x432 with 4 Axes>"
            ]
          },
          "metadata": {
            "tags": [],
            "needs_background": "light"
          }
        }
      ]
    },
    {
      "cell_type": "code",
      "metadata": {
        "id": "YgJSFkw2Fejk"
      },
      "source": [
        "# re-scaling the data\n",
        "train_images = train_images / 255\n",
        "test_images = test_images / 255\n",
        "\n",
        "multi_class_train_labels = to_categorical(train_labels, 10) # does one hot encoding\n",
        "multi_class_test_labels = to_categorical(test_labels, 10) # does one hot encoding\n"
      ],
      "execution_count": 4,
      "outputs": []
    },
    {
      "cell_type": "code",
      "metadata": {
        "id": "4p80f3gzU4K3"
      },
      "source": [
        ""
      ],
      "execution_count": 4,
      "outputs": []
    },
    {
      "cell_type": "code",
      "metadata": {
        "id": "CpTtFuFO_EcM"
      },
      "source": [
        "def multi_class_eager_fbeta(ytrue, ypred, beta=1.0, weighted=False):\n",
        "  ypred = np.array(np.equal(ypred, np.max(ypred, axis=-1).reshape(-1, 1)), dtype=np.float32)\n",
        "  if weighted:\n",
        "    average = 'weighted'\n",
        "  else:\n",
        "    average = 'macro'\n",
        "    \n",
        "  return fbeta_score(ytrue, ypred, beta, average=average)"
      ],
      "execution_count": 5,
      "outputs": []
    },
    {
      "cell_type": "code",
      "metadata": {
        "id": "FWz1HTNf4eNU"
      },
      "source": [
        ""
      ],
      "execution_count": 5,
      "outputs": []
    },
    {
      "cell_type": "code",
      "metadata": {
        "id": "R_ZQxaQgFFe4"
      },
      "source": [
        "def multi_class_fbeta(ytrue , ypred, beta=1, average='macro', epsilon=1e-7):\n",
        "    # epsilon is set to avoid division by zero error\n",
        "    beta_squared = beta**2\n",
        "\n",
        "    # casting ytrue and ypred as floats\n",
        "    ytrue = tf.cast(ytrue, tf.float32)\n",
        "    ypred= tf.cast(ypred, tf.float32)\n",
        "    \n",
        "    # finding the maximum probability in ypred\n",
        "    max_prob = tf.reduce_max(ypred, axis=-1, keepdims=True)\n",
        "\n",
        "    # making ypred one hot encoded such that the class with the maximum probability as encoded as 1 while others as 0\n",
        "    ypred = tf.cast(tf.equal(ypred, max_prob), tf.float32)\n",
        "        \n",
        "    tp = tf.reduce_sum(ytrue*ypred, axis=0) # calculating true positives\n",
        "    predicted_positive = tf.reduce_sum(ypred, axis=0) # calculating predicted positives\n",
        "    actual_positive = tf.reduce_sum(ytrue, axis=0) # calculating actual positives\n",
        "    \n",
        "    # calculating precision and recall\n",
        "    precision = tp/(predicted_positive+epsilon)\n",
        "    recall = tp/(actual_positive+epsilon)\n",
        "\n",
        "    # finding fbeta\n",
        "    fb = (1+beta_squared)*precision*recall / (beta_squared*precision + recall + epsilon)\n",
        "\n",
        "    if average == 'weighted':\n",
        "      supports = tf.reduce_sum(ytrue, axis=0)\n",
        "      return tf.reduce_sum(fb*supports / tf.reduce_sum(supports))\n",
        "\n",
        "    elif average == 'raw':\n",
        "      return fb\n",
        "\n",
        "    return tf.reduce_mean(fb)"
      ],
      "execution_count": 6,
      "outputs": []
    },
    {
      "cell_type": "code",
      "metadata": {
        "id": "FbUBFxGt4sHT"
      },
      "source": [
        "def build_model(start=512, metrics=multi_class_fbeta, run_eagerly=False, lr=1e-3):\n",
        "    model = Sequential() # initializes a sequential model\n",
        "\n",
        "    # adding three layers where a filter size is half of the preceding filter size\n",
        "    for _ in range(3):\n",
        "      model.add(Conv2D(filters=512, kernel_size=3, activation='relu', input_shape=(28, 28, 1)))\n",
        "      start //= 2\n",
        "\n",
        "    model.add(Flatten()) # flattens the layer\n",
        "\n",
        "    model.add(Dense(10, activation='softmax')) # ouput layer\n",
        "\n",
        "    opt = Adam(lr=lr) # initializes an optimizer\n",
        "\n",
        "    # compling model\n",
        "    model.compile(loss='categorical_crossentropy', optimizer=opt, metrics=[metrics], run_eagerly=run_eagerly)\n",
        "    \n",
        "    return model"
      ],
      "execution_count": 7,
      "outputs": []
    },
    {
      "cell_type": "code",
      "metadata": {
        "id": "sAlmuyV4__DK"
      },
      "source": [
        ""
      ],
      "execution_count": 7,
      "outputs": []
    },
    {
      "cell_type": "code",
      "metadata": {
        "id": "wN4sdnpaAhBD",
        "colab": {
          "base_uri": "https://localhost:8080/"
        },
        "outputId": "bf6ccc15-81f4-43e2-dd2e-cdc386a80ef9"
      },
      "source": [
        "eager_multi_class_model = build_model(metrics=multi_class_eager_fbeta, run_eagerly=True)\n",
        "eager_multi_class_model.fit(x=train_images.reshape(-1, 28, 28, 1), y=multi_class_train_labels, batch_size=128, epochs=3, validation_split=0.25, shuffle=False);"
      ],
      "execution_count": 8,
      "outputs": [
        {
          "output_type": "stream",
          "text": [
            "Epoch 1/3\n",
            "352/352 [==============================] - 90s 255ms/step - loss: 0.1533 - multi_class_eager_fbeta: 0.9517 - val_loss: 0.1044 - val_multi_class_eager_fbeta: 0.9691\n",
            "Epoch 2/3\n",
            "352/352 [==============================] - 89s 254ms/step - loss: 0.0471 - multi_class_eager_fbeta: 0.9853 - val_loss: 0.0569 - val_multi_class_eager_fbeta: 0.9830\n",
            "Epoch 3/3\n",
            "352/352 [==============================] - 90s 256ms/step - loss: 0.0312 - multi_class_eager_fbeta: 0.9901 - val_loss: 0.0821 - val_multi_class_eager_fbeta: 0.9764\n"
          ],
          "name": "stdout"
        }
      ]
    },
    {
      "cell_type": "code",
      "metadata": {
        "id": "_2f3Vgx4rsGP"
      },
      "source": [
        ""
      ],
      "execution_count": 8,
      "outputs": []
    },
    {
      "cell_type": "code",
      "metadata": {
        "id": "iQmY1SFO-X9i",
        "colab": {
          "base_uri": "https://localhost:8080/"
        },
        "outputId": "bdd5015e-3998-4919-e008-c5b163f8ef90"
      },
      "source": [
        "multi_class_model = build_model()\n",
        "multi_class_model.fit(x=train_images.reshape(-1, 28, 28, 1), y=multi_class_train_labels, batch_size=128, epochs=3, validation_split=0.25, shuffle=False);"
      ],
      "execution_count": 9,
      "outputs": [
        {
          "output_type": "stream",
          "text": [
            "Epoch 1/3\n",
            "  2/352 [..............................] - ETA: 31s - loss: 2.3184 - multi_class_fbeta: 0.0776WARNING:tensorflow:Callbacks method `on_train_batch_end` is slow compared to the batch time (batch time: 0.0563s vs `on_train_batch_end` time: 0.1203s). Check your callbacks.\n",
            "352/352 [==============================] - 68s 194ms/step - loss: 0.1530 - multi_class_fbeta: 0.9529 - val_loss: 0.1142 - val_multi_class_fbeta: 0.9664\n",
            "Epoch 2/3\n",
            "352/352 [==============================] - 68s 192ms/step - loss: 0.0474 - multi_class_fbeta: 0.9849 - val_loss: 0.0598 - val_multi_class_fbeta: 0.9820\n",
            "Epoch 3/3\n",
            "352/352 [==============================] - 68s 192ms/step - loss: 0.0312 - multi_class_fbeta: 0.9903 - val_loss: 0.0673 - val_multi_class_fbeta: 0.9821\n"
          ],
          "name": "stdout"
        }
      ]
    },
    {
      "cell_type": "code",
      "metadata": {
        "id": "HsTEC46urvE5"
      },
      "source": [
        ""
      ],
      "execution_count": 9,
      "outputs": []
    },
    {
      "cell_type": "code",
      "metadata": {
        "id": "1FtC__AmT-yA",
        "colab": {
          "base_uri": "https://localhost:8080/"
        },
        "outputId": "2aa54fd3-bb06-4712-f1ac-9ce33d51c403"
      },
      "source": [
        "# predictings the testing set\n",
        "multi_class_ypred = multi_class_model.predict(test_images.reshape(-1, 28, 28, 1))\n",
        "\n",
        "# one_hot encoding predictions \n",
        "multi_class_ypred = np.array(np.equal(multi_class_ypred, np.max(multi_class_ypred, axis=-1).reshape(-1, 1)), dtype=np.float32)\n",
        "\n",
        "print('Shape of testing labels is {}'.format(multi_class_ypred.shape))\n",
        "print('Shape of predicted testing labels is {}'.format(multi_class_test_labels.shape))\n",
        "print()\n",
        "print('f1_score of prediction using multi_class_fbeta is {}'.format(multi_class_fbeta(multi_class_test_labels, multi_class_ypred)))\n",
        "print('f1_score of prediction using scikit-learn fbeta is {}'.format(fbeta_score(multi_class_test_labels, multi_class_ypred, beta=1, average='macro')))\n",
        "print()\n",
        "print('weighted f1_score of prediction using multi_class_fbeta is {}'.format(multi_class_fbeta(multi_class_test_labels, multi_class_ypred, average='weighted')))\n",
        "print('weighted f1_score of prediction using scikit-learn fbeta is {}'.format(fbeta_score(multi_class_test_labels, multi_class_ypred, beta=1, average='weighted')))\n",
        "print()\n",
        "print('raw fbeta scores for each class are {}'.format(multi_class_fbeta(multi_class_test_labels, multi_class_ypred, average='raw').numpy()))"
      ],
      "execution_count": 10,
      "outputs": [
        {
          "output_type": "stream",
          "text": [
            "Shape of testing labels is (10000, 10)\n",
            "Shape of predicted testing labels is (10000, 10)\n",
            "\n",
            "f1_score of prediction using multi_class_fbeta is 0.9861151576042175\n",
            "f1_score of prediction using scikit-learn fbeta is 0.986115259340232\n",
            "\n",
            "weighted f1_score of prediction using multi_class_fbeta is 0.9861977696418762\n",
            "weighted f1_score of prediction using scikit-learn fbeta is 0.9861978437799129\n",
            "\n",
            "raw fbeta scores for each class are [0.99183667 0.9911971  0.98290175 0.98458475 0.9878665  0.98096293\n",
            " 0.9889879  0.98446596 0.9847094  0.983639  ]\n"
          ],
          "name": "stdout"
        }
      ]
    },
    {
      "cell_type": "code",
      "metadata": {
        "id": "v-aylFiKtS28"
      },
      "source": [
        ""
      ],
      "execution_count": 10,
      "outputs": []
    },
    {
      "cell_type": "code",
      "metadata": {
        "id": "8KtUqjohsXiS",
        "colab": {
          "base_uri": "https://localhost:8080/",
          "height": 377
        },
        "outputId": "cf083b4b-d786-48eb-c9a6-62b8d0ec6f1c"
      },
      "source": [
        "# converting one hot encoded predictions to integers\n",
        "multi_class_ypred2 = (np.array([[i for i in range(10)] for _ in range(multi_class_ypred.shape[0])]) * multi_class_ypred).sum(axis=-1)\n",
        "\n",
        "fig = plt.figure(figsize=(6, 6))\n",
        "random_labels = np.random.choice(class_labels, size=4, replace=False)\n",
        "\n",
        "for ind in range(len(random_labels)):\n",
        "  random_ind = np.random.choice([i for i in range(len(test_labels)) if test_labels[i] == random_labels[ind]])\n",
        "  ax = fig.add_subplot(2, 2, ind+1)\n",
        "  plt.imshow(test_images[random_ind])\n",
        "  plt.title(\"Prediction: {}\".format(multi_class_ypred2[random_ind]))\n",
        "  ax.xaxis.set_visible(False)\n",
        "  ax.yaxis.set_visible(False)\n",
        "\n",
        "plt.show()"
      ],
      "execution_count": 11,
      "outputs": [
        {
          "output_type": "display_data",
          "data": {
            "image/png": "[encoded data removed]",
            "text/plain": [
              "<Figure size 432x432 with 4 Axes>"
            ]
          },
          "metadata": {
            "tags": [],
            "needs_background": "light"
          }
        }
      ]
    },
    {
      "cell_type": "code",
      "metadata": {
        "id": "elGLKnE3uKlo"
      },
      "source": [
        ""
      ],
      "execution_count": 11,
      "outputs": []
    },
    {
      "cell_type": "code",
      "metadata": {
        "id": "3aKqdyfoBkIy"
      },
      "source": [
        "class StatefullMultiClassFBeta(Metric):\n",
        "  def __init__(self, name='state_full_binary_fbeta', beta=1, n_class=10, average='macro', epsilon=1e-7, **kwargs):\n",
        "    # initializing an object of the super class\n",
        "    super(StatefullMultiClassFBeta, self).__init__(name=name, **kwargs)\n",
        "\n",
        "    # initializing atrributes\n",
        "    self.tp = self.add_weight(name='tp', shape=(n_class,), initializer='zeros')     # initializing true positives\n",
        "    self.actual_positives = self.add_weight(name='ap', shape=(n_class,), initializer='zeros') # initializing actual positives\n",
        "    self.predicted_positives = self.add_weight(name='pp', shape=(n_class,), initializer='zeros') # initializing predicted positives\n",
        "\n",
        "    # initializing other atrributes that wouldn't be changed for every object of this class\n",
        "    self.beta_squared = beta**2\n",
        "    self.n_class = n_class\n",
        "    self.average = average\n",
        "    self.epsilon = epsilon\n",
        "\n",
        "  def update_state(self, ytrue, ypred, sample_weight=None):\n",
        "    # casting ytrue and ypred as float dtype\n",
        "    ytrue = tf.cast(ytrue, tf.float32)\n",
        "    ypred = tf.cast(ypred, tf.float32)\n",
        "\n",
        "    # finding the maximum probability in ypred\n",
        "    max_prob = tf.reduce_max(ypred, axis=-1, keepdims=True)\n",
        "\n",
        "    # making ypred one hot encoded such that the class with the maximum probability as encoded as 1 while others as 0\n",
        "    ypred = tf.cast(tf.equal(ypred, max_prob), tf.float32)\n",
        "        \n",
        "    self.tp.assign_add(tf.reduce_sum(ytrue*ypred, axis=0)) # updating true positives atrribute\n",
        "    self.predicted_positives.assign_add(tf.reduce_sum(ypred, axis=0)) # updating predicted positives atrribute\n",
        "    self.actual_positives.assign_add(tf.reduce_sum(ytrue, axis=0)) # updating actual positives atrribute\n",
        "\n",
        "  def result(self):\n",
        "    self.precision = self.tp/(self.predicted_positives+self.epsilon) # calculates precision\n",
        "    self.recall = self.tp/(self.actual_positives+self.epsilon) # calculates recall\n",
        "\n",
        "    # calculating fbeta score\n",
        "    self.fb = (1+self.beta_squared)*self.precision*self.recall / (self.beta_squared*self.precision + self.recall + self.epsilon)\n",
        "\n",
        "    if self.average == 'weighted':\n",
        "      return tf.reduce_sum(self.fb*self.actual_positives / tf.reduce_sum(self.actual_positives))\n",
        "    \n",
        "    elif self.average == 'raw':\n",
        "      return self.fb\n",
        "\n",
        "    return tf.reduce_mean(self.fb)\n",
        "\n",
        "  def reset_states(self):\n",
        "    self.tp.assign(tf.zeros(self.n_class)) # resets true positives to zero\n",
        "    self.predicted_positives.assign(tf.zeros(self.n_class)) # resets predicted positives to zero\n",
        "    self.actual_positives.assign(tf.zeros(self.n_class)) # resets actual positives to zero"
      ],
      "execution_count": 12,
      "outputs": []
    },
    {
      "cell_type": "code",
      "metadata": {
        "id": "Rm0_JtStpR3S"
      },
      "source": [
        ""
      ],
      "execution_count": 12,
      "outputs": []
    },
    {
      "cell_type": "code",
      "metadata": {
        "id": "4Dh0R28OE4pH",
        "colab": {
          "base_uri": "https://localhost:8080/"
        },
        "outputId": "f6a556ac-5863-41ab-e436-ffd921ac5445"
      },
      "source": [
        "statefull_multi_class_fbeta = StatefullMultiClassFBeta()\n",
        "statefull_multi_class_model = build_model(metrics=statefull_multi_class_fbeta)\n",
        "statefull_multi_class_model.fit(x=train_images.reshape(-1, 28, 28, 1), y=multi_class_train_labels, batch_size=128, epochs=3, validation_split=0.25, shuffle=False);"
      ],
      "execution_count": 13,
      "outputs": [
        {
          "output_type": "stream",
          "text": [
            "Epoch 1/3\n",
            "  2/352 [..............................] - ETA: 53s - loss: 2.2825 - state_full_binary_fbeta: 0.0645WARNING:tensorflow:Callbacks method `on_train_batch_end` is slow compared to the batch time (batch time: 0.0589s vs `on_train_batch_end` time: 0.1227s). Check your callbacks.\n",
            "352/352 [==============================] - 68s 194ms/step - loss: 0.1523 - state_full_binary_fbeta: 0.9541 - val_loss: 0.0954 - val_state_full_binary_fbeta: 0.9727\n",
            "Epoch 2/3\n",
            "352/352 [==============================] - 68s 193ms/step - loss: 0.0480 - state_full_binary_fbeta: 0.9852 - val_loss: 0.0569 - val_state_full_binary_fbeta: 0.9833\n",
            "Epoch 3/3\n",
            "352/352 [==============================] - 68s 192ms/step - loss: 0.0313 - state_full_binary_fbeta: 0.9901 - val_loss: 0.0678 - val_state_full_binary_fbeta: 0.9807\n"
          ],
          "name": "stdout"
        }
      ]
    },
    {
      "cell_type": "code",
      "metadata": {
        "id": "enVhocjCpVtG"
      },
      "source": [
        ""
      ],
      "execution_count": 13,
      "outputs": []
    },
    {
      "cell_type": "code",
      "metadata": {
        "id": "vdDjlD8wS2JT"
      },
      "source": [
        "# defining a function to randomly change zeros to ones\n",
        "def change_to_one(row):\n",
        "  row[np.random.choice(list(range(len(row))))] = 1\n",
        "  return row"
      ],
      "execution_count": 14,
      "outputs": []
    },
    {
      "cell_type": "code",
      "metadata": {
        "id": "CvNb1lkSsyxT",
        "colab": {
          "base_uri": "https://localhost:8080/"
        },
        "outputId": "bf107fc3-ccc3-4904-d4e0-878abe347e39"
      },
      "source": [
        "n_sample = 20\n",
        "n_class = 3\n",
        "m = StatefullMultiClassFBeta(n_class=n_class) # initializes a stateful multi class fbeta object\n",
        "arr_true, arr_pred = np.zeros((n_sample, n_class)), np.zeros((n_sample, n_class)) # initializes true and pred to zeros\n",
        "\n",
        "# randomly changing zeros in arr_true and arr_pred to ones\n",
        "arr_true = np.apply_along_axis(change_to_one, axis=1, arr=arr_true) \n",
        "arr_pred = np.apply_along_axis(change_to_one, axis=1, arr=arr_pred)\n",
        "\n",
        "m.update_state(arr_true, arr_pred)\n",
        "print('Intermediate result for stateful multi class fbeta is: {}'.format(float(m.result())))\n",
        "print('Intermediate result for scikit-learn fbeta is: {}'.format(fbeta_score(arr_true, arr_pred, beta=1, average='macro')))\n",
        "print()\n",
        "\n",
        "increment_size = 20\n",
        "a_true, a_pred= np.zeros((increment_size, n_class)), np.zeros((increment_size, n_class))\n",
        "a_true = np.apply_along_axis(change_to_one, axis=1, arr=a_true)\n",
        "a_pred = np.apply_along_axis(change_to_one, axis=1, arr=a_pred)\n",
        "\n",
        "m.update_state(a_true, a_pred)\n",
        "print('Final result for stateful multi class fbeta is: {}'.format(float(m.result())))\n",
        "\n",
        "arr_true = np.append(arr_true, a_true, axis=0)\n",
        "arr_pred = np.append(arr_pred, a_pred, axis=0)\n",
        "\n",
        "print('Final result for scikit-learn multi class fbeta is: {}'.format(fbeta_score(arr_true, arr_pred, beta=1, average='macro')))"
      ],
      "execution_count": 15,
      "outputs": [
        {
          "output_type": "stream",
          "text": [
            "Intermediate result for stateful multi class fbeta is: 0.2868777811527252\n",
            "Intermediate result for scikit-learn fbeta is: 0.2868778280542987\n",
            "\n",
            "Final result for stateful multi class fbeta is: 0.26536789536476135\n",
            "Final result for scikit-learn multi class fbeta is: 0.26536796536796536\n"
          ],
          "name": "stdout"
        }
      ]
    }
  ]
}