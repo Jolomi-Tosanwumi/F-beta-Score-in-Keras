{
  "nbformat": 4,
  "nbformat_minor": 0,
  "metadata": {
    "colab": {
      "name": "BinaryFbeta.ipynb",
      "provenance": [],
      "collapsed_sections": [],
      "authorship_tag": "ABX9TyNfX3w3o3/veN7UsAmcc5qp"
    },
    "kernelspec": {
      "name": "python3",
      "display_name": "Python 3"
    }
  },
  "cells": [
    {
      "cell_type": "code",
      "metadata": {
        "id": "jm4XUcjaSzY9"
      },
      "source": [
        "# importing useful libraries\n",
        "import numpy as np\n",
        "import tensorflow as tf\n",
        "import random as python_random\n",
        "\n",
        "# setting random seed for result reproducibility\n",
        "np.random.seed(1)\n",
        "python_random.seed(12)\n",
        "tf.random.set_seed(123)\n",
        "\n",
        "from tensorflow.keras.models import Sequential\n",
        "from tensorflow.keras.layers import Dense, Flatten, BatchNormalization, Conv2D\n",
        "from tensorflow.keras.optimizers import Adam\n",
        "from tensorflow.keras.metrics import Metric\n",
        "\n",
        "from sklearn.metrics import fbeta_score\n",
        "\n",
        "import matplotlib.pyplot as plt\n",
        "\n",
        "import warnings\n",
        "warnings.filterwarnings('ignore')\n",
        "\n",
        "%matplotlib inline"
      ],
      "execution_count": 1,
      "outputs": []
    },
    {
      "cell_type": "code",
      "metadata": {
        "id": "tIK7jle6TmGt",
        "colab": {
          "base_uri": "https://localhost:8080/"
        },
        "outputId": "063c4507-7376-4a04-d20b-805fbb07f065"
      },
      "source": [
        "mnist = tf.keras.datasets.mnist # downloading the dataset\n",
        "# unpacking the training and testing set\n",
        "(train_images, train_labels), (test_images, test_labels) = mnist.load_data()\n",
        "\n",
        "print()\n",
        "print('Training features have shape: {}, while labels have shape{}'.format(train_images.shape, train_labels.shape))\n",
        "print('Testing features have shape: {}, while labels have shape{}'.format(test_images.shape, test_labels.shape))\n",
        "\n",
        "class_labels = np.unique(train_labels)\n",
        "print(\"There are {} classes in the dataset. They are {}\".format(len(class_labels), class_labels))"
      ],
      "execution_count": 2,
      "outputs": [
        {
          "output_type": "stream",
          "text": [
            "\n",
            "Training features have shape: (60000, 28, 28), while labels have shape(60000,)\n",
            "Testing features have shape: (10000, 28, 28), while labels have shape(10000,)\n",
            "There are 10 classes in the dataset. They are [0 1 2 3 4 5 6 7 8 9]\n"
          ],
          "name": "stdout"
        }
      ]
    },
    {
      "cell_type": "code",
      "metadata": {
        "id": "nmn1T9F6Ukxz"
      },
      "source": [
        ""
      ],
      "execution_count": 2,
      "outputs": []
    },
    {
      "cell_type": "code",
      "metadata": {
        "id": "PUFV_FPgVLs-",
        "colab": {
          "base_uri": "https://localhost:8080/",
          "height": 377
        },
        "outputId": "403dca53-55ba-4816-f835-ecfda3378b37"
      },
      "source": [
        "fig = plt.figure(figsize=(6, 6))\n",
        "random_labels = np.random.choice(class_labels, size=4, replace=False)\n",
        "for ind in range(len(random_labels)):\n",
        "  random_ind = np.random.choice([i for i in range(len(train_labels)) if train_labels[i] == random_labels[ind]])\n",
        "  ax = fig.add_subplot(2, 2, ind+1)\n",
        "  plt.imshow(train_images[random_ind])\n",
        "  plt.title(\"Label: {}\".format(train_labels[random_ind]))\n",
        "  ax.xaxis.set_visible(False)\n",
        "  ax.yaxis.set_visible(False)\n",
        "plt.show()"
      ],
      "execution_count": 3,
      "outputs": [
        {
          "output_type": "display_data",
          "data": {
            "image/png": "[encoded data removed]",
            "text/plain": [
              "<Figure size 432x432 with 4 Axes>"
            ]
          },
          "metadata": {
            "tags": [],
            "needs_background": "light"
          }
        }
      ]
    },
    {
      "cell_type": "code",
      "metadata": {
        "id": "-C66q70hWX4_"
      },
      "source": [
        "# re-scaling the data\n",
        "train_images = train_images / 255\n",
        "test_images = test_images / 255\n",
        "\n",
        "# converting the labels to binary labels where 1 is an even number while 0 is an odd number\n",
        "binary_train_labels = np.array([[float(label)] for label in train_labels%2 == 0])\n",
        "binary_test_labels = np.array([[float(label)] for label in test_labels%2 == 0])\n",
        "\n",
        "# storing the even and odd labels of the training set to seperate variables\n",
        "even_indices_train = np.arange(binary_train_labels.shape[0])[binary_train_labels.flatten() == 1]\n",
        "odd_indices_train = np.arange(binary_train_labels.shape[0])[binary_train_labels.flatten() == 0]\n"
      ],
      "execution_count": 4,
      "outputs": []
    },
    {
      "cell_type": "code",
      "metadata": {
        "id": "AJU72t3o3Baw"
      },
      "source": [
        ""
      ],
      "execution_count": 4,
      "outputs": []
    },
    {
      "cell_type": "code",
      "metadata": {
        "id": "fHMX70fjjadq",
        "colab": {
          "base_uri": "https://localhost:8080/",
          "height": 377
        },
        "outputId": "698019b4-8440-4403-ca03-fb05a9238fbd"
      },
      "source": [
        "fig = plt.figure(figsize=(6, 6))\n",
        "\n",
        "random_odd_labels = np.random.choice(list(range(1, 10, 2)), size=2, replace=False)\n",
        "random_even_labels = np.random.choice(list(range(0, 10, 2)), size=2, replace=False)\n",
        "\n",
        "for ind in range(len(random_odd_labels)+len(random_even_labels)):\n",
        "  if ind < 2:\n",
        "    random_ind = np.random.choice([i for i in odd_indices_train if train_labels[i] == random_odd_labels[ind]])\n",
        "  else:\n",
        "    random_ind = np.random.choice([i for i in even_indices_train if train_labels[i] == random_even_labels[ind-2]])\n",
        "\n",
        "  ax = fig.add_subplot(2, 2, ind+1)\n",
        "  plt.imshow(train_images[random_ind])\n",
        "  plt.title(\"Label: {}\".format(binary_train_labels[random_ind][0]))\n",
        "  ax.xaxis.set_visible(False)\n",
        "  ax.yaxis.set_visible(False)\n",
        "\n",
        "plt.show()"
      ],
      "execution_count": 5,
      "outputs": [
        {
          "output_type": "display_data",
          "data": {
            "image/png": "[encoded data removed]",
            "text/plain": [
              "<Figure size 432x432 with 4 Axes>"
            ]
          },
          "metadata": {
            "tags": [],
            "needs_background": "light"
          }
        }
      ]
    },
    {
      "cell_type": "code",
      "metadata": {
        "id": "_i7Mm39-ja0O"
      },
      "source": [
        ""
      ],
      "execution_count": 5,
      "outputs": []
    },
    {
      "cell_type": "code",
      "metadata": {
        "id": "EqTNWwQS1xmN"
      },
      "source": [
        "def eager_binary_fbeta(ytrue, ypred, beta=1.0, threshold=0.5):\n",
        "  ypred = np.array(ypred >= threshold, dtype=np.float32)\n",
        "\n",
        "  return fbeta_score(ytrue, ypred, beta)"
      ],
      "execution_count": 6,
      "outputs": []
    },
    {
      "cell_type": "code",
      "metadata": {
        "id": "-ZxyDK0juhgB"
      },
      "source": [
        "def binary_fbeta(ytrue , ypred, beta=1, threshold=0.5, epsilon=1e-7):\n",
        "    # epsilon is set so as to avoid division by zero error\n",
        "    \n",
        "    beta_squared = beta**2 # squaring beta\n",
        "\n",
        "    # casting ytrue and ypred as float dtype\n",
        "    ytrue = tf.cast(ytrue, tf.float32)\n",
        "    ypred = tf.cast(ypred, tf.float32)\n",
        "\n",
        "    # setting values of ypred greater than the set threshold to 1 while those lesser to 0\n",
        "    ypred = tf.cast(tf.greater_equal(ypred, tf.constant(threshold)), tf.float32)\n",
        "\n",
        "    tp = tf.reduce_sum(ytrue*ypred) # calculating true positives\n",
        "    predicted_positive = tf.reduce_sum(ypred) # calculating predicted positives\n",
        "    actual_positive = tf.reduce_sum(ytrue) # calculating actual positives\n",
        "    \n",
        "    precision = tp/(predicted_positive+epsilon) # calculating precision\n",
        "    recall = tp/(actual_positive+epsilon) # calculating recall\n",
        "    \n",
        "    # calculating fbeta\n",
        "    fb = (1+beta_squared)*precision*recall / (beta_squared*precision + recall + epsilon)\n",
        "\n",
        "    return fb"
      ],
      "execution_count": 7,
      "outputs": []
    },
    {
      "cell_type": "code",
      "metadata": {
        "id": "Ns7Tou2juiHf"
      },
      "source": [
        "def build_model(start=512, metrics=binary_fbeta, run_eagerly=False, lr=1e-3):\n",
        "    model = Sequential() # initializes a sequential model\n",
        "\n",
        "    # adding three layers where a filter size is half of the preceding filter size\n",
        "    for _ in range(3):\n",
        "      model.add(Conv2D(filters=512, kernel_size=3, activation='relu', input_shape=(28, 28, 1)))\n",
        "      start //= 2\n",
        "\n",
        "    model.add(Flatten()) # flattens the layer\n",
        "\n",
        "    model.add(Dense(1, activation='sigmoid')) # ouput layer\n",
        "\n",
        "    opt = Adam(lr=lr) # initializes an optimizer\n",
        "\n",
        "    # compling model\n",
        "    model.compile(loss='binary_crossentropy', optimizer=opt, metrics=[metrics], run_eagerly=run_eagerly)\n",
        "    \n",
        "    return model"
      ],
      "execution_count": 8,
      "outputs": []
    },
    {
      "cell_type": "code",
      "metadata": {
        "id": "tTm5TODN6yWt"
      },
      "source": [
        ""
      ],
      "execution_count": 8,
      "outputs": []
    },
    {
      "cell_type": "code",
      "metadata": {
        "id": "Ijpmqdrq30rQ",
        "colab": {
          "base_uri": "https://localhost:8080/"
        },
        "outputId": "21451b59-707d-401c-c3eb-0af0b6c0e7eb"
      },
      "source": [
        "eager_binary_model = build_model(metrics=eager_binary_fbeta, run_eagerly=True)\n",
        "eager_binary_model.fit(x=train_images.reshape(-1, 28, 28, 1), y=binary_train_labels, batch_size=128, epochs=3, validation_split=0.25, shuffle=False);"
      ],
      "execution_count": 9,
      "outputs": [
        {
          "output_type": "stream",
          "text": [
            "Epoch 1/3\n",
            "352/352 [==============================] - 87s 247ms/step - loss: 0.1130 - eager_binary_fbeta: 0.9526 - val_loss: 0.0489 - val_eager_binary_fbeta: 0.9829\n",
            "Epoch 2/3\n",
            "352/352 [==============================] - 85s 241ms/step - loss: 0.0445 - eager_binary_fbeta: 0.9847 - val_loss: 0.0378 - val_eager_binary_fbeta: 0.9869\n",
            "Epoch 3/3\n",
            "352/352 [==============================] - 85s 240ms/step - loss: 0.0331 - eager_binary_fbeta: 0.9878 - val_loss: 0.0412 - val_eager_binary_fbeta: 0.9851\n"
          ],
          "name": "stdout"
        }
      ]
    },
    {
      "cell_type": "code",
      "metadata": {
        "id": "Z3HOAy5fhBHI"
      },
      "source": [
        ""
      ],
      "execution_count": 9,
      "outputs": []
    },
    {
      "cell_type": "code",
      "metadata": {
        "id": "PRFkBguuzH4G",
        "colab": {
          "base_uri": "https://localhost:8080/"
        },
        "outputId": "ef3978c3-0bc2-4785-febd-6f3e0afee2eb"
      },
      "source": [
        "binary_model = build_model()\n",
        "binary_model.fit(x=train_images.reshape(-1, 28, 28, 1), y=binary_train_labels, batch_size=128, epochs=3, validation_split=0.25, shuffle=False);"
      ],
      "execution_count": 10,
      "outputs": [
        {
          "output_type": "stream",
          "text": [
            "Epoch 1/3\n",
            "  2/352 [..............................] - ETA: 31s - loss: 0.7149 - binary_fbeta: 0.5426WARNING:tensorflow:Callbacks method `on_train_batch_end` is slow compared to the batch time (batch time: 0.0579s vs `on_train_batch_end` time: 0.1213s). Check your callbacks.\n",
            "352/352 [==============================] - 69s 196ms/step - loss: 0.1116 - binary_fbeta: 0.9538 - val_loss: 0.0523 - val_binary_fbeta: 0.9808\n",
            "Epoch 2/3\n",
            "352/352 [==============================] - 68s 193ms/step - loss: 0.0470 - binary_fbeta: 0.9832 - val_loss: 0.0432 - val_binary_fbeta: 0.9845\n",
            "Epoch 3/3\n",
            "352/352 [==============================] - 68s 192ms/step - loss: 0.0344 - binary_fbeta: 0.9881 - val_loss: 0.0432 - val_binary_fbeta: 0.9853\n"
          ],
          "name": "stdout"
        }
      ]
    },
    {
      "cell_type": "code",
      "metadata": {
        "id": "J7ty5jAbgRhg"
      },
      "source": [
        ""
      ],
      "execution_count": 10,
      "outputs": []
    },
    {
      "cell_type": "code",
      "metadata": {
        "id": "T3TmZU2O4zbG",
        "colab": {
          "base_uri": "https://localhost:8080/"
        },
        "outputId": "df962b3e-1edc-4f8c-f7d6-344666cc6948"
      },
      "source": [
        "# predicting the testing set\n",
        "binary_ypred = binary_model.predict(test_images.reshape(-1, 28, 28, 1))\n",
        "\n",
        "# one_hot encoding predictions \n",
        "binary_ypred = np.array(binary_ypred >= 0.5, dtype=np.float32)\n",
        "\n",
        "print('Shape of testing labels is {}'.format(binary_test_labels.shape))\n",
        "print('Shape of predicted testing set is {}'.format(binary_ypred.shape))\n",
        "print()\n",
        "print('f1_score of prediction using binary_fbeta is {}'.format(binary_fbeta(binary_test_labels, binary_ypred).numpy()))\n",
        "print('f1_score of prediction using scikit-learn f1_score  is {}'.format(fbeta_score(binary_test_labels, binary_ypred, beta=1)))\n",
        "\n",
        "# storing the even and odd labels of the testing set to seperate variables\n",
        "even_indices_test = np.arange(binary_test_labels.shape[0])[binary_test_labels.flatten() == 1]\n",
        "odd_indices_test = np.arange(binary_test_labels.shape[0])[binary_test_labels.flatten() == 0]"
      ],
      "execution_count": 11,
      "outputs": [
        {
          "output_type": "stream",
          "text": [
            "Shape of testing labels is (10000, 1)\n",
            "Shape of predicted testing set is (10000, 1)\n",
            "\n",
            "f1_score of prediction using binary_fbeta is 0.9886792302131653\n",
            "f1_score of prediction using scikit-learn f1_score  is 0.9886792452830189\n"
          ],
          "name": "stdout"
        }
      ]
    },
    {
      "cell_type": "code",
      "metadata": {
        "id": "7aLYz31rUR_4"
      },
      "source": [
        ""
      ],
      "execution_count": 11,
      "outputs": []
    },
    {
      "cell_type": "code",
      "metadata": {
        "id": "S4eTMIOmhAPk",
        "colab": {
          "base_uri": "https://localhost:8080/",
          "height": 377
        },
        "outputId": "be7f7e04-fad5-4752-c02d-c9512c5941b8"
      },
      "source": [
        "fig = plt.figure(figsize=(6, 6))\n",
        "\n",
        "random_odd_labels = np.random.choice(list(range(1, 10, 2)), size=2, replace=False)\n",
        "random_even_labels = np.random.choice(list(range(0, 10, 2)), size=2, replace=False)\n",
        "\n",
        "for ind in range(len(random_odd_labels)+len(random_even_labels)):\n",
        "  if ind < 2:\n",
        "    random_ind = np.random.choice([i for i in odd_indices_test if test_labels[i] == random_odd_labels[ind]])\n",
        "  else:\n",
        "    random_ind = np.random.choice([i for i in even_indices_test if test_labels[i] == random_even_labels[ind-2]])\n",
        "    \n",
        "  ax = fig.add_subplot(2, 2, ind+1)\n",
        "  plt.imshow(test_images[random_ind])\n",
        "  plt.title(\"Predicted: {}\".format(binary_ypred[random_ind][0]))\n",
        "  ax.xaxis.set_visible(False)\n",
        "  ax.yaxis.set_visible(False)\n",
        "\n",
        "plt.show()"
      ],
      "execution_count": 12,
      "outputs": [
        {
          "output_type": "display_data",
          "data": {
            "image/png": "[encoded data removed]",
            "text/plain": [
              "<Figure size 432x432 with 4 Axes>"
            ]
          },
          "metadata": {
            "tags": [],
            "needs_background": "light"
          }
        }
      ]
    },
    {
      "cell_type": "code",
      "metadata": {
        "id": "xHb0-eNMb9pm"
      },
      "source": [
        ""
      ],
      "execution_count": 12,
      "outputs": []
    },
    {
      "cell_type": "code",
      "metadata": {
        "id": "WmEzzONYycsX"
      },
      "source": [
        "class StatefullBinaryFBeta(Metric):\n",
        "  def __init__(self, name='state_full_binary_fbeta', beta=1, threshold=0.5, epsilon=1e-7, **kwargs):\n",
        "    # initializing an object of the super class\n",
        "    super(StatefullBinaryFBeta, self).__init__(name=name, **kwargs)\n",
        "\n",
        "    # initializing state variables\n",
        "    self.tp = self.add_weight(name='tp', initializer='zeros') # initializing true positives \n",
        "    self.actual_positive = self.add_weight(name='fp', initializer='zeros') # initializing actual positives\n",
        "    self.predicted_positive = self.add_weight(name='fn', initializer='zeros') # initializing predicted positives\n",
        "\n",
        "    # initializing other atrributes that wouldn't be changed for every object of this class\n",
        "    self.beta_squared = beta**2 \n",
        "    self.threshold = threshold\n",
        "    self.epsilon = epsilon\n",
        "\n",
        "  def update_state(self, ytrue, ypred, sample_weight=None):\n",
        "    # casting ytrue and ypred as float dtype\n",
        "    ytrue = tf.cast(ytrue, tf.float32)\n",
        "    ypred = tf.cast(ypred, tf.float32)\n",
        "\n",
        "    # setting values of ypred greater than the set threshold to 1 while those lesser to 0\n",
        "    ypred = tf.cast(tf.greater_equal(ypred, tf.constant(self.threshold)), tf.float32)\n",
        "        \n",
        "    self.tp.assign_add(tf.reduce_sum(ytrue*ypred)) # updating true positives atrribute\n",
        "    self.predicted_positive.assign_add(tf.reduce_sum(ypred)) # updating predicted positive atrribute\n",
        "    self.actual_positive.assign_add(tf.reduce_sum(ytrue)) # updating actual positive atrribute\n",
        "\n",
        "  def result(self):\n",
        "    self.precision = self.tp/(self.predicted_positive+self.epsilon) # calculates precision\n",
        "    self.recall = self.tp/(self.actual_positive+self.epsilon) # calculates recall\n",
        "\n",
        "    # calculating fbeta\n",
        "    self.fb = (1+self.beta_squared)*self.precision*self.recall / (self.beta_squared*self.precision + self.recall + self.epsilon)\n",
        "    \n",
        "    return self.fb\n",
        "\n",
        "  def reset_states(self):\n",
        "    self.tp.assign(0) # resets true positives to zero\n",
        "    self.predicted_positive.assign(0) # resets predicted positives to zero\n",
        "    self.actual_positive.assign(0) # resets actual positives to zero"
      ],
      "execution_count": 13,
      "outputs": []
    },
    {
      "cell_type": "code",
      "metadata": {
        "id": "xmw7eIitjMie"
      },
      "source": [
        ""
      ],
      "execution_count": 13,
      "outputs": []
    },
    {
      "cell_type": "code",
      "metadata": {
        "id": "c_UsY6mzWiwq",
        "colab": {
          "base_uri": "https://localhost:8080/"
        },
        "outputId": "f9ce7cac-b0c8-45d8-dfd5-b937a48e4bc3"
      },
      "source": [
        "statefull_binary_fbeta = StatefullBinaryFBeta() # initializes a stateful binary_fbeta object\n",
        "binary_model = build_model(metrics=statefull_binary_fbeta) # builds model\n",
        "\n",
        "# fitting model\n",
        "binary_model.fit(x=train_images.reshape(-1, 28, 28, 1), y=binary_train_labels, batch_size=128, epochs=3, validation_split=0.25, shuffle=False);"
      ],
      "execution_count": 14,
      "outputs": [
        {
          "output_type": "stream",
          "text": [
            "Epoch 1/3\n",
            "  2/352 [..............................] - ETA: 53s - loss: 0.7563 - state_full_binary_fbeta: 0.6178WARNING:tensorflow:Callbacks method `on_train_batch_end` is slow compared to the batch time (batch time: 0.0567s vs `on_train_batch_end` time: 0.1227s). Check your callbacks.\n",
            "352/352 [==============================] - 68s 194ms/step - loss: 0.1150 - state_full_binary_fbeta: 0.9538 - val_loss: 0.0482 - val_state_full_binary_fbeta: 0.9829\n",
            "Epoch 2/3\n",
            "352/352 [==============================] - 68s 193ms/step - loss: 0.0470 - state_full_binary_fbeta: 0.9833 - val_loss: 0.0396 - val_state_full_binary_fbeta: 0.9865\n",
            "Epoch 3/3\n",
            "352/352 [==============================] - 68s 192ms/step - loss: 0.0338 - state_full_binary_fbeta: 0.9881 - val_loss: 0.0372 - val_state_full_binary_fbeta: 0.9877\n"
          ],
          "name": "stdout"
        }
      ]
    },
    {
      "cell_type": "code",
      "metadata": {
        "id": "Cg0GduTOX9aZ"
      },
      "source": [
        ""
      ],
      "execution_count": 14,
      "outputs": []
    },
    {
      "cell_type": "code",
      "metadata": {
        "id": "6mjqCubudC3I",
        "colab": {
          "base_uri": "https://localhost:8080/"
        },
        "outputId": "5068f850-4ce8-49ec-ae65-72e6c1d04859"
      },
      "source": [
        "m = StatefullBinaryFBeta() # initializes a stateful binary_fbeta object\n",
        "n_size = 20\n",
        "\n",
        "# creating random binary true and predicted labels\n",
        "arr_true = list(np.random.choice([0, 1], size=n_size))\n",
        "arr_pred = list(np.random.choice([0, 1], size=n_size))\n",
        "\n",
        "m.update_state(arr_true, arr_pred)\n",
        "print('Intermediate result for stateful binary fbeta is: {}'.format(float(m.result())))\n",
        "print('Intermediate result using scikit-learn fbeta is: {}'.format(fbeta_score(arr_true, arr_pred, beta=1)))\n",
        "print()\n",
        "\n",
        "increment_size = 20 \n",
        "\n",
        "# creating random binary true and predicted labels to add to the old ones\n",
        "a1 = list(np.random.choice([0, 1], size=increment_size))\n",
        "a2 = list(np.random.choice([0, 1], size=increment_size))\n",
        "\n",
        "m.update_state(a1, a2) # updating using our stateful binary fbeta object\n",
        "print('Final result for stateful binary fbeta is {}:'.format(float(m.result())))\n",
        "\n",
        "# adding a1 and a2 to arr_true and arr_pred respectively to form our new array\n",
        "arr_true.extend(a1)\n",
        "arr_pred.extend(a2)\n",
        "\n",
        "print('Final result using scikit-learn fbeta is: {}'.format(fbeta_score(arr_true, arr_pred, beta=1)))"
      ],
      "execution_count": 15,
      "outputs": [
        {
          "output_type": "stream",
          "text": [
            "Intermediate result for stateful binary fbeta is: 0.5454545021057129\n",
            "Intermediate result using scikit-learn fbeta is: 0.5454545454545454\n",
            "\n",
            "Final result for stateful binary fbeta is 0.5652173161506653:\n",
            "Final result using scikit-learn fbeta is: 0.5652173913043478\n"
          ],
          "name": "stdout"
        }
      ]
    },
    {
      "cell_type": "code",
      "metadata": {
        "id": "fWSG00MyeL9i"
      },
      "source": [
        ""
      ],
      "execution_count": 15,
      "outputs": []
    }
  ]
}